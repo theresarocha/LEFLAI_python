{
  "nbformat": 4,
  "nbformat_minor": 0,
  "metadata": {
    "colab": {
      "name": "LEFLAI Jogo Roleta.ipynb",
      "provenance": [],
      "collapsed_sections": [],
      "authorship_tag": "ABX9TyNcntr41EeCfDiqo3u8knyv",
      "include_colab_link": true
    },
    "kernelspec": {
      "name": "python3",
      "display_name": "Python 3"
    },
    "language_info": {
      "name": "python"
    }
  },
  "cells": [
    {
      "cell_type": "markdown",
      "metadata": {
        "id": "view-in-github",
        "colab_type": "text"
      },
      "source": [
        "<a href=\"https://colab.research.google.com/github/theresarocha/estudos_LEFLAI_python/blob/main/LEFLAI_Jogo_Roleta.ipynb\" target=\"_parent\"><img src=\"https://colab.research.google.com/assets/colab-badge.svg\" alt=\"Open In Colab\"/></a>"
      ]
    },
    {
      "cell_type": "markdown",
      "metadata": {
        "id": "abQiZVVtMHF0"
      },
      "source": [
        "#**Jogo da Roleta**"
      ]
    },
    {
      "cell_type": "markdown",
      "metadata": {
        "id": "IwJg3Ac7NJB-"
      },
      "source": [
        "O objetivo deste programa é criar um jogo de roleta em que o jogador aposta em um número de 1 a 6.\n",
        "\n",
        "Depois, o jogador arremessa uma bola que pode cair em qualquer numéro de 0 a 6.\n",
        "\n",
        "Caso a bola acerte o valor escolhido, então o jogador ganha 6x o valor apostado.\n",
        "\n",
        "##**Algoritmo**\n",
        "\n",
        "1. Perguntar a quantia que o jogador quer apostar\n",
        "2. Perguntar qual o número (1-6) em que o jogador deseja colocar a aposta\n",
        "3. Arremessar a bolinha, isto é, gerar um número aleatorio entre 0-6\n",
        "4. Imprima o resultado sorteado na tela\n",
        "5. Se o jogador acertou então imprima na tela o resultado e o seu prêmio\n",
        "6. Se o jogador errou, imprima na tela o resultado"
      ]
    },
    {
      "cell_type": "code",
      "metadata": {
        "colab": {
          "base_uri": "https://localhost:8080/"
        },
        "id": "bwcK3xU-YYOj",
        "outputId": "9afb5d1d-6d19-4c1e-a0be-d70326e95a52"
      },
      "source": [
        "#Perguntar a quantia que o jogador quer apostar\n",
        "aposta = int(input('\\nQual valor você quer apostar?'))\n",
        "\n",
        "#Perguntar qual o número (1-6) que o jogador deseja apostar\n",
        "numero = int(input('\\nQual número entre 1 a 6 você deseja apostar?'))\n",
        "\n",
        "#Arremessar a bolinha\n",
        "#Quando o jogador arremessa a bolinha, poderá sair qualquer número\n",
        "#Para isso, vamos usar a função random.choice da biblioteca random para gerar um número aleatório de 0 a 6\n",
        "\n",
        "import random\n",
        "\n",
        "lista = [0, 1, 2, 3, 4, 5, 6]\n",
        "x = random.choice(lista)\n",
        "\n",
        "#Mostrar o resultado sorteado na tela\n",
        "print('O resultado da roleta é {}'. format(x))\n",
        "\n",
        "#Se o jogador acertar, mostrar o resultado na tela e o seu prêmio\n",
        "\n",
        "if numero == lista:\n",
        "  premio = 6*aposta\n",
        "  print('\\nVocê ganhou!')\n",
        "  print('\\Você ganhou {} reais'.format(premio))\n",
        "\n",
        "else:\n",
        "  print('\\nVocê perdeu!')\n",
        "  print('\\nMais sorte na próxima vez!')"
      ],
      "execution_count": null,
      "outputs": [
        {
          "output_type": "stream",
          "text": [
            "\n",
            "Qual valor você quer apostar?400\n",
            "\n",
            "Qual número entre 1 a 6 você deseja apostar?6\n",
            "O resultado da roleta é 6\n",
            "\n",
            "Você perdeu!\n",
            "\n",
            "Mais sorte na próxima vez!\n"
          ],
          "name": "stdout"
        }
      ]
    }
  ]
}